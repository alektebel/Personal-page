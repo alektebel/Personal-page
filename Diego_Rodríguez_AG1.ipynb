{
  "nbformat": 4,
  "nbformat_minor": 0,
  "metadata": {
    "colab": {
      "provenance": [],
      "authorship_tag": "ABX9TyPRU0IzF5HuY7A4T0XdK01d",
      "include_colab_link": true
    },
    "kernelspec": {
      "name": "python3",
      "display_name": "Python 3"
    },
    "language_info": {
      "name": "python"
    }
  },
  "cells": [
    {
      "cell_type": "markdown",
      "metadata": {
        "id": "view-in-github",
        "colab_type": "text"
      },
      "source": [
        "<a href=\"https://colab.research.google.com/github/alektebel/alektebel.github.io/blob/main/Diego_Rodr%C3%ADguez_AG1.ipynb\" target=\"_parent\"><img src=\"https://colab.research.google.com/assets/colab-badge.svg\" alt=\"Open In Colab\"/></a>"
      ]
    },
    {
      "cell_type": "markdown",
      "source": [
        "# Actividad guiada 1"
      ],
      "metadata": {
        "id": "BIFVgcdqNheB"
      }
    },
    {
      "cell_type": "markdown",
      "source": [
        "Nombre: Diego Rodríguez Atencia\n",
        "\n",
        "Actividad guiada 1 de algoritmos de optimización\n",
        "\n",
        "url_gh_AG1 = https://github.com/alektebel/03MAIR--Algoritmos-de-optimizacion--2024/tree/main/AG1\n",
        "\n",
        "colab = https://colab.research.google.com/drive/1Yjm-akPK1MqL3Q_U30S0c1qnHGTlK5EI?authuser=2#scrollTo=q1aeel1wHbDp"
      ],
      "metadata": {
        "id": "gcnYQhjJ-XtC"
      }
    },
    {
      "cell_type": "markdown",
      "source": [
        "### Decorador para medir el tiempo de ejecución"
      ],
      "metadata": {
        "id": "gxTVQUqOHWVY"
      }
    },
    {
      "cell_type": "code",
      "source": [
        "def medir_tiempo(func):\n",
        "  def wrapper(*args, **kwargs):\n",
        "    import time\n",
        "    inicio = time.time()\n",
        "    resultado = func(*args, **kwargs)\n",
        "    tiempo = (time.time() - inicio) *1000000\n",
        "    print(f\"Tiempo de ejecución: {tiempo:.2f} microseconds\")\n",
        "    return resultado\n",
        "  return wrapper\n",
        "\n"
      ],
      "metadata": {
        "id": "q1aeel1wHbDp"
      },
      "execution_count": null,
      "outputs": []
    },
    {
      "cell_type": "markdown",
      "source": [
        "Algoritmo de euclides"
      ],
      "metadata": {
        "id": "lHCGgX1yzbZ4"
      }
    },
    {
      "cell_type": "code",
      "source": [
        "@medir_tiempo\n",
        "def euclides(a, b):\n",
        "  if b < a:\n",
        "    b, a = a, b\n",
        "  while(b):\n",
        "    a, b = b, a % b\n",
        "  return a"
      ],
      "metadata": {
        "id": "0k3sRvBv1R0a"
      },
      "execution_count": null,
      "outputs": []
    },
    {
      "cell_type": "code",
      "source": [
        "test_time = [(105000, 400000), (20000230, 10000650), (1870000000, 1000654000)]\n",
        "\n",
        "\n",
        "for test in test_time:\n",
        "  print(f\"Test: {test}\")\n",
        "  euclides(*test)\n"
      ],
      "metadata": {
        "colab": {
          "base_uri": "https://localhost:8080/"
        },
        "id": "aUq5opkP1W36",
        "outputId": "0b55006f-aec2-4796-fd9e-e7f1a7ad7319"
      },
      "execution_count": null,
      "outputs": [
        {
          "output_type": "stream",
          "name": "stdout",
          "text": [
            "Test: (105000, 400000)\n",
            "Tiempo de ejecución: 3.34 microseconds\n",
            "Test: (20000230, 10000650)\n",
            "Tiempo de ejecución: 1.91 microseconds\n",
            "Test: (1870000000, 1000654000)\n",
            "Tiempo de ejecución: 3.10 microseconds\n"
          ]
        }
      ]
    },
    {
      "cell_type": "markdown",
      "source": [
        "Algoritmo de heron"
      ],
      "metadata": {
        "id": "E9gXI2_70Emb"
      }
    },
    {
      "cell_type": "code",
      "source": [
        "@medir_tiempo\n",
        "def heron(x0, p, err, tol = 0.0001, max_iter = 1000):\n",
        "  iter = 0\n",
        "  while(abs(x0**2-p) > err):\n",
        "    x_temp = x0\n",
        "    x0 = (x0 + p / x0) / 2\n",
        "    if abs(x_temp - x0) < tol:\n",
        "      print(\"Se alcanzó la tolerancia\")\n",
        "      return x_temp\n",
        "    iter += 1\n",
        "    if iter > max_iter:\n",
        "      print(\"Se alcanzó el número máximo de iteraciones\")\n",
        "      return x0\n",
        "  return x0"
      ],
      "metadata": {
        "id": "R29VHRxJzbns"
      },
      "execution_count": null,
      "outputs": []
    },
    {
      "cell_type": "code",
      "source": [
        "tests = [2, 3, 4, 5, 6]\n",
        "tol = 0.001\n",
        "\n",
        "import numpy as np\n",
        "\n",
        "for test in tests:\n",
        "  print(f\"Test: {test}\")\n",
        "  print('La raiz de '+str(test) + ' -> ' +str(heron(1, test, tol)))\n",
        "  print('La raiz real es: ', np.sqrt(test))"
      ],
      "metadata": {
        "colab": {
          "base_uri": "https://localhost:8080/"
        },
        "id": "CK-_JvQ6KXCd",
        "outputId": "f0dc234d-0447-425a-8025-6e754a96d866"
      },
      "execution_count": null,
      "outputs": [
        {
          "output_type": "stream",
          "name": "stdout",
          "text": [
            "Test: 2\n",
            "Tiempo de ejecución: 32.66 microseconds\n",
            "La raiz de 2 -> 1.4142156862745097\n",
            "La raiz real es:  1.4142135623730951\n",
            "Test: 3\n",
            "Tiempo de ejecución: 10.25 microseconds\n",
            "La raiz de 3 -> 1.7321428571428572\n",
            "La raiz real es:  1.7320508075688772\n",
            "Test: 4\n",
            "Tiempo de ejecución: 5.96 microseconds\n",
            "La raiz de 4 -> 2.0000000929222947\n",
            "La raiz real es:  2.0\n",
            "Test: 5\n",
            "Tiempo de ejecución: 5.72 microseconds\n",
            "La raiz de 5 -> 2.2360688956433634\n",
            "La raiz real es:  2.23606797749979\n",
            "Test: 6\n",
            "Tiempo de ejecución: 5.01 microseconds\n",
            "La raiz de 6 -> 2.4494943716069653\n",
            "La raiz real es:  2.449489742783178\n"
          ]
        }
      ]
    },
    {
      "cell_type": "markdown",
      "source": [
        "## Problema de autobuses\n",
        "\n",
        "\n",
        "Una pequeña ciudad estudia introducir un sistema de transporte urbano de\n",
        "autobuses. Nos encargan estudiar el número mínimo de autobuses para\n",
        "cubrir la demanda. Se ha realizado un estudio para estimar el número\n",
        "mínimo de autobuses por franja horaria. Lógicamente este número varia\n",
        "dependiendo de la hora del día. Se observa que es posible dividir la franja\n",
        "horaria de 24h en tramos de 4 horas en los queda determinado el número\n",
        "de autobuses que se necesitan. Debido a la normativa cada autobús debe\n",
        "circular 8 horas como máximo y seguidas en cada jornada de 24h"
      ],
      "metadata": {
        "id": "IDXSCZG50HA2"
      }
    },
    {
      "cell_type": "markdown",
      "source": [
        "### IMPLEMENTACION\n",
        "Si representamos el inicio de los turnos de los buses como un array de tantos elementos como tramos hay, tenemos un vector $x_0, x_1, \\cdots, x_n$ cuya suma es el número de buses que tenemos. Dado esto, queremos minimizar el número total de buses que utilizamos\n",
        "$$\n",
        "   \\sum_t x_t\n",
        "$$\n",
        "Bajo las condiciones de:\n",
        "$$\n",
        "x_t+x_{t+1} \\leq r_t\n",
        "$$\n",
        "Donde $r_t$ son los autobuses requeridos en la franja de tiempo t.\n",
        "\n"
      ],
      "metadata": {
        "id": "3yMUX6YBaN6S"
      }
    },
    {
      "cell_type": "markdown",
      "source": [
        "#### SOLUCION INGENUA\n",
        "solucion_ingenua = [8, 2, 5, 7, 0, 9]\n",
        "vs\n",
        "demanda =          [8, 10, 7, 12, 6, 9]\n",
        "\n",
        "Esta es una solución ingenua, en la que se necesitan 31 autobuses. La solución minima por tanto deberá ser menor o igual que esta, es decir, que no puede ser mayor.\n"
      ],
      "metadata": {
        "id": "WkaYdVPz9enX"
      }
    },
    {
      "cell_type": "markdown",
      "source": [
        "Queremos recorrer todas las posible combinaciones de horarios para n buses, asignados a m tramos, donde n > m. Esto es el problema de dividir estrellas entre casillas, en el que tenemos m casillas y queremos asignar n estrellas entre las casillas. Para ello, lo tenemos en cuenta como si hubiesen n + m -1 posiciones: Por ejemplo, para n = 5 y m = 3\n",
        "$$*****|||$$\n",
        "Hay en total 5 + 3 - 1 posibles posiciones, que en total son 9. Queremos encontrar todas las formas de organizar las estrellas y barras sin contar las permutaciones triviales (| con | o * con *). Entonces, lo que queremos es contar todos los subgrupos de m -1 elementos (fijandonos en las barras) sobre todos estos elementos, es decir:\n",
        "$$\\binom{m + n - 1}{m -1}$$"
      ],
      "metadata": {
        "id": "LnBHHlAj43Eg"
      }
    },
    {
      "cell_type": "markdown",
      "source": [
        "Establecemos un primer rango de búsqueda entre 30 y 32:"
      ],
      "metadata": {
        "id": "i3mJa8soUw4r"
      }
    },
    {
      "cell_type": "code",
      "source": [
        "from itertools import permutations\n",
        "import math\n",
        "\n",
        "def generar_soluciones(n, m):\n",
        "  if m == 1:  # Caso base, cuando sólo quede un tramo, el resto de buses irá aquí.\n",
        "    return [[n]]\n",
        "  combinations = []\n",
        "  for i in range(n + 1):  # Añadimos i buses al primer tramo\n",
        "      for rest in generar_soluciones(n - i, m - 1):  # Distribuimos los n-i buses restantes en las casillas que quedarán de forma recursiva, y cuando quede sólo un tramo, se pondrán todos los buses\n",
        "      #que queden, por el caso base de arriba.\n",
        "          combinations.append([i] + rest)\n",
        "  return combinations\n",
        "\n",
        "def solucion_valida(solution, req_buses):\n",
        "    \"\"\"\n",
        "    Comprueba si una solución es válida\n",
        "    \"\"\"\n",
        "    #Comprobamos el turno de noche\n",
        "    if solution[0]+ solution[-1] < req_buses[0]:\n",
        "      return False\n",
        "    for i in range(len(req_buses)-1):\n",
        "        if solution[i] + solution[i+1] < req_buses[i+1]:#Los buses deben estar de tal forma que se ajusten a la correspondiente demanda\n",
        "            return False\n",
        "    return True\n",
        "\n",
        "def encontrar_solucion_brute_force(demanda, lb_buses = 15, up_buses = 30):\n",
        "    \"\"\"\n",
        "    Encuentra alguna solución posible utilizando fuerza bruta\n",
        "    \"\"\"\n",
        "    min_buses = float('inf')\n",
        "    mejor_solucion = None\n",
        "\n",
        "    #buscamos soluciones con número de buses entre lower_bound_buses y upper_bound_buses\n",
        "    for num_buses in range(lb_buses, up_buses+1):\n",
        "      print('Buscando solución para ', num_buses, ' buses')\n",
        "      for sol in generar_soluciones(num_buses, len(demanda)):\n",
        "        if solucion_valida(sol, demanda):\n",
        "          if num_buses < min_buses:\n",
        "            min_buses = num_buses\n",
        "            mejor_solucion = sol\n",
        "            print('La solucion es: ', sol)\n",
        "            break\n",
        "      if min_buses == float('inf'):\n",
        "        print('Ninguna solución para ', num_buses, ' buses.')\n",
        "    return min_buses, mejor_solucion\n",
        "\n",
        "\n",
        "if __name__ == \"__main__\":\n",
        "    demand = [4, 8, 10, 7, 12, 4]\n",
        "\n",
        "    min_buses, solucion = encontrar_solucion_brute_force(demand, 24, 26)\n"
      ],
      "metadata": {
        "colab": {
          "base_uri": "https://localhost:8080/"
        },
        "id": "65R7RGbKCS5n",
        "outputId": "d84f9d07-9d9c-49da-fbdc-ea72fd55d274"
      },
      "execution_count": 3,
      "outputs": [
        {
          "output_type": "stream",
          "name": "stdout",
          "text": [
            "Buscando solución para  24  buses\n",
            "Ninguna solución para  24  buses.\n",
            "Buscando solución para  25  buses\n",
            "Ninguna solución para  25  buses.\n",
            "Buscando solución para  26  buses\n",
            "La solucion es:  [0, 8, 2, 5, 7, 4]\n"
          ]
        }
      ]
    },
    {
      "cell_type": "markdown",
      "source": [
        "Como hemos podido ver, parece que se encuentra solución para 31 buses, que es el número equivalente de buses a encontrar para el ejemplo ingenuo. La complejidad de esta búsqueda por fuerza bruta se encuentra en $$O(\\frac{m+n-1!}{m-1! n!})  = O(m^n)$$ donde m es el número de tramos, y n es el mayor número de buses para el que realizamos la búsqueda. puesto que tenemos que comprobar todas las combinaciones en las que podemos desglosar un número n (el número de autobuses) entre todos los posibles horarios de tramo en 24 horas (m-1). Se ha buscado esta solución suponiendo que no hay turnos de 4 horas, pero dado que según el enunciado, los turnos tienen que ser seguidos y como máximo de 8 horas (con lo que suponemos que todos los turnos deberían ser de 8 horas para optimizar al máximo)."
      ],
      "metadata": {
        "id": "-M8w0IEByrYX"
      }
    }
  ]
}