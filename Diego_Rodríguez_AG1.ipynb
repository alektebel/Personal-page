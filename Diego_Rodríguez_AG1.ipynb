{
  "nbformat": 4,
  "nbformat_minor": 0,
  "metadata": {
    "colab": {
      "provenance": [],
      "authorship_tag": "ABX9TyN9DY+pypove658CQssgjq5",
      "include_colab_link": true
    },
    "kernelspec": {
      "name": "python3",
      "display_name": "Python 3"
    },
    "language_info": {
      "name": "python"
    }
  },
  "cells": [
    {
      "cell_type": "markdown",
      "metadata": {
        "id": "view-in-github",
        "colab_type": "text"
      },
      "source": [
        "<a href=\"https://colab.research.google.com/github/alektebel/alektebel.github.io/blob/main/Diego_Rodr%C3%ADguez_AG1.ipynb\" target=\"_parent\"><img src=\"https://colab.research.google.com/assets/colab-badge.svg\" alt=\"Open In Colab\"/></a>"
      ]
    },
    {
      "cell_type": "markdown",
      "source": [
        "# Actividad guiada 1"
      ],
      "metadata": {
        "id": "BIFVgcdqNheB"
      }
    },
    {
      "cell_type": "code",
      "source": [
        "url_gh_AG1 = https://github.com/alektebel/03MAIR--Algoritmos-de-optimizacion--2024/tree/main/AG1"
      ],
      "metadata": {
        "id": "uJVA0h1qNl14"
      },
      "execution_count": null,
      "outputs": []
    }
  ]
}